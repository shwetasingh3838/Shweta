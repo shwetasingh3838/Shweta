{
  "nbformat": 4,
  "nbformat_minor": 0,
  "metadata": {
    "colab": {
      "provenance": []
    },
    "kernelspec": {
      "name": "python3",
      "display_name": "Python 3"
    },
    "language_info": {
      "name": "python"
    }
  },
  "cells": [
    {
      "cell_type": "code",
      "execution_count": 4,
      "metadata": {
        "id": "1OiruvliOTMB"
      },
      "outputs": [],
      "source": [
        "class Book:\n",
        "    def __init__(self, title, author, isbn):\n",
        "        self.title = title\n",
        "        self.author = author\n",
        "        self.isbn = isbn\n",
        "\n",
        "class Member:\n",
        "    def __init__(self, name, membership_id, contact_info):\n",
        "        self.name = name\n",
        "        self.membership_id = membership_id\n",
        "        self.contact_info = contact_info\n",
        "        self.borrowed_books = []\n",
        "\n",
        "class Loan:\n",
        "    def __init__(self, book, member, due_date):\n",
        "        self.book = book\n",
        "        self.member = member\n",
        "        self.due_date = due_date\n",
        "\n",
        "class Library:\n",
        "    def __init__(self):\n",
        "        self.books = []\n",
        "        self.members = []\n",
        "        self.loans = []\n"
      ]
    },
    {
      "cell_type": "code",
      "source": [
        "import json\n",
        "\n",
        "# Sample data\n",
        "data = {\n",
        "    \"books\": [\n",
        "        {\n",
        "            \"title\": \"Book Title 1\",\n",
        "            \"author\": \"Author 1\",\n",
        "            \"isbn\": \"1234567890123\"\n",
        "        }\n",
        "    ],\n",
        "    \"members\": [\n",
        "        {\n",
        "            \"name\": \"John Doe\",\n",
        "            \"membership_id\": \"001\",\n",
        "            \"contact_info\": \"john.doe@example.com\"\n",
        "        }\n",
        "    ],\n",
        "    \"loans\": []\n",
        "}\n",
        "\n",
        "# Write to library_data.json\n",
        "with open(\"library_data.json\", \"w\") as f:\n",
        "    json.dump(data, f)\n",
        "\n",
        "print(\"library_data.json has been created.\")\n"
      ],
      "metadata": {
        "colab": {
          "base_uri": "https://localhost:8080/"
        },
        "id": "j3MS5Nl_OafM",
        "outputId": "63b69c6f-6118-414c-a49b-c5ed694cc33d"
      },
      "execution_count": 5,
      "outputs": [
        {
          "output_type": "stream",
          "name": "stdout",
          "text": [
            "library_data.json has been created.\n"
          ]
        }
      ]
    },
    {
      "cell_type": "code",
      "source": [
        "def load_library_state(filename):\n",
        "    try:\n",
        "        with open(filename, \"r\") as f:\n",
        "            data = json.load(f)\n",
        "        library = Library()\n",
        "\n",
        "        for book_data in data[\"books\"]:\n",
        "            library.books.append(Book(**book_data))  # Create Book objects\n",
        "\n",
        "        for member_data in data[\"members\"]:\n",
        "            library.members.append(Member(**member_data))  # Create Member objects\n",
        "\n",
        "        # Handle loans if necessary, e.g. Loan(book, member, due_date)\n",
        "\n",
        "        return library\n",
        "    except FileNotFoundError:\n",
        "        print(f\"Error: The file '{filename}' was not found.\")\n",
        "        return Library()  # Return an empty library if the file is not found\n"
      ],
      "metadata": {
        "id": "I09U9M5jOhiJ"
      },
      "execution_count": 8,
      "outputs": []
    },
    {
      "cell_type": "code",
      "source": [
        "def main():\n",
        "    library = load_library_state(\"library_data.json\")\n",
        "    print(\"Books in the library:\")\n",
        "    for book in library.books:\n",
        "        print(f\"- {book.title} by {book.author}\")\n",
        "\n",
        "if __name__ == \"__main__\":\n",
        "    main()"
      ],
      "metadata": {
        "colab": {
          "base_uri": "https://localhost:8080/"
        },
        "id": "0JanAQ2dPCaF",
        "outputId": "4506e358-7e35-4e1c-ee78-1fe8a594ee00"
      },
      "execution_count": 9,
      "outputs": [
        {
          "output_type": "stream",
          "name": "stdout",
          "text": [
            "Books in the library:\n",
            "- Book Title 1 by Author 1\n"
          ]
        }
      ]
    }
  ]
}